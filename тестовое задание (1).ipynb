{
 "cells": [
  {
   "cell_type": "code",
   "execution_count": 1,
   "metadata": {},
   "outputs": [],
   "source": [
    "import numpy as np\n",
    "import pandas as pd\n",
    "import matplotlib.pyplot as plt\n",
    "\n",
    "%matplotlib inline"
   ]
  },
  {
   "cell_type": "raw",
   "metadata": {},
   "source": [
    "Задание:\n",
    "1. попробовать написать краткие выводы о трендах/моделях потребления видеоконтента. Хотя бы те факты, которые можно выявить на основании просмотра трех сериалов.\n",
    "\n",
    "2. часть данных я намеренно «испортил». Нужно найти эти кусочки данных, которые выбиваются из общих трендов или «выглядят подозрительно»."
   ]
  },
  {
   "cell_type": "code",
   "execution_count": 2,
   "metadata": {},
   "outputs": [],
   "source": [
    "#Читаю файл\n",
    "data = pd.read_excel(r'../Датасеты/Тестовое задание.xlsx')"
   ]
  },
  {
   "cell_type": "code",
   "execution_count": 3,
   "metadata": {
    "scrolled": true
   },
   "outputs": [
    {
     "data": {
      "text/html": [
       "<div>\n",
       "<style scoped>\n",
       "    .dataframe tbody tr th:only-of-type {\n",
       "        vertical-align: middle;\n",
       "    }\n",
       "\n",
       "    .dataframe tbody tr th {\n",
       "        vertical-align: top;\n",
       "    }\n",
       "\n",
       "    .dataframe thead th {\n",
       "        text-align: right;\n",
       "    }\n",
       "</style>\n",
       "<table border=\"1\" class=\"dataframe\">\n",
       "  <thead>\n",
       "    <tr style=\"text-align: right;\">\n",
       "      <th></th>\n",
       "      <th>Дата</th>\n",
       "      <th>ТВ-шоу</th>\n",
       "      <th>Эпизод</th>\n",
       "      <th>устройство</th>\n",
       "      <th>views</th>\n",
       "    </tr>\n",
       "  </thead>\n",
       "  <tbody>\n",
       "    <tr>\n",
       "      <th>0</th>\n",
       "      <td>2021-04-03</td>\n",
       "      <td>Тайтл 2</td>\n",
       "      <td>4</td>\n",
       "      <td>Mobile Application</td>\n",
       "      <td>0</td>\n",
       "    </tr>\n",
       "    <tr>\n",
       "      <th>1</th>\n",
       "      <td>2021-04-04</td>\n",
       "      <td>Тайтл 2</td>\n",
       "      <td>4</td>\n",
       "      <td>Mobile Application</td>\n",
       "      <td>7598</td>\n",
       "    </tr>\n",
       "    <tr>\n",
       "      <th>2</th>\n",
       "      <td>2021-04-04</td>\n",
       "      <td>Тайтл 2</td>\n",
       "      <td>4</td>\n",
       "      <td>SmartTV</td>\n",
       "      <td>4084</td>\n",
       "    </tr>\n",
       "    <tr>\n",
       "      <th>3</th>\n",
       "      <td>2021-04-04</td>\n",
       "      <td>Тайтл 2</td>\n",
       "      <td>4</td>\n",
       "      <td>Desktop</td>\n",
       "      <td>3474</td>\n",
       "    </tr>\n",
       "    <tr>\n",
       "      <th>4</th>\n",
       "      <td>2021-04-04</td>\n",
       "      <td>Тайтл 2</td>\n",
       "      <td>4</td>\n",
       "      <td>Mobile</td>\n",
       "      <td>2337</td>\n",
       "    </tr>\n",
       "  </tbody>\n",
       "</table>\n",
       "</div>"
      ],
      "text/plain": [
       "         Дата   ТВ-шоу  Эпизод          устройство  views\n",
       "0  2021-04-03  Тайтл 2       4  Mobile Application      0\n",
       "1  2021-04-04  Тайтл 2       4  Mobile Application   7598\n",
       "2  2021-04-04  Тайтл 2       4             SmartTV   4084\n",
       "3  2021-04-04  Тайтл 2       4             Desktop   3474\n",
       "4  2021-04-04  Тайтл 2       4              Mobile   2337"
      ]
     },
     "execution_count": 3,
     "metadata": {},
     "output_type": "execute_result"
    }
   ],
   "source": [
    "data.head()"
   ]
  },
  {
   "cell_type": "code",
   "execution_count": 4,
   "metadata": {
    "scrolled": false
   },
   "outputs": [
    {
     "data": {
      "text/html": [
       "<div>\n",
       "<style scoped>\n",
       "    .dataframe tbody tr th:only-of-type {\n",
       "        vertical-align: middle;\n",
       "    }\n",
       "\n",
       "    .dataframe tbody tr th {\n",
       "        vertical-align: top;\n",
       "    }\n",
       "\n",
       "    .dataframe thead th {\n",
       "        text-align: right;\n",
       "    }\n",
       "</style>\n",
       "<table border=\"1\" class=\"dataframe\">\n",
       "  <thead>\n",
       "    <tr style=\"text-align: right;\">\n",
       "      <th></th>\n",
       "      <th>Эпизод</th>\n",
       "      <th>views</th>\n",
       "    </tr>\n",
       "  </thead>\n",
       "  <tbody>\n",
       "    <tr>\n",
       "      <th>count</th>\n",
       "      <td>2176.000000</td>\n",
       "      <td>2176.000000</td>\n",
       "    </tr>\n",
       "    <tr>\n",
       "      <th>mean</th>\n",
       "      <td>3.921875</td>\n",
       "      <td>413.624081</td>\n",
       "    </tr>\n",
       "    <tr>\n",
       "      <th>std</th>\n",
       "      <td>1.953331</td>\n",
       "      <td>709.055765</td>\n",
       "    </tr>\n",
       "    <tr>\n",
       "      <th>min</th>\n",
       "      <td>1.000000</td>\n",
       "      <td>0.000000</td>\n",
       "    </tr>\n",
       "    <tr>\n",
       "      <th>25%</th>\n",
       "      <td>2.000000</td>\n",
       "      <td>78.000000</td>\n",
       "    </tr>\n",
       "    <tr>\n",
       "      <th>50%</th>\n",
       "      <td>4.000000</td>\n",
       "      <td>185.500000</td>\n",
       "    </tr>\n",
       "    <tr>\n",
       "      <th>75%</th>\n",
       "      <td>5.000000</td>\n",
       "      <td>453.500000</td>\n",
       "    </tr>\n",
       "    <tr>\n",
       "      <th>max</th>\n",
       "      <td>8.000000</td>\n",
       "      <td>7598.000000</td>\n",
       "    </tr>\n",
       "  </tbody>\n",
       "</table>\n",
       "</div>"
      ],
      "text/plain": [
       "            Эпизод        views\n",
       "count  2176.000000  2176.000000\n",
       "mean      3.921875   413.624081\n",
       "std       1.953331   709.055765\n",
       "min       1.000000     0.000000\n",
       "25%       2.000000    78.000000\n",
       "50%       4.000000   185.500000\n",
       "75%       5.000000   453.500000\n",
       "max       8.000000  7598.000000"
      ]
     },
     "execution_count": 4,
     "metadata": {},
     "output_type": "execute_result"
    }
   ],
   "source": [
    "#Смотрю на количественные данные. Вижу, что есть эпизоды, у которых нет просмотров. Возможно, это ошибка.\n",
    "data.describe()"
   ]
  },
  {
   "cell_type": "code",
   "execution_count": 5,
   "metadata": {},
   "outputs": [
    {
     "data": {
      "text/plain": [
       "22"
      ]
     },
     "execution_count": 5,
     "metadata": {},
     "output_type": "execute_result"
    }
   ],
   "source": [
    "#Таких эпизодов всего 22 из 2176\n",
    "len(data[data['views'] == 0])"
   ]
  },
  {
   "cell_type": "code",
   "execution_count": 6,
   "metadata": {},
   "outputs": [
    {
     "data": {
      "text/html": [
       "<div>\n",
       "<style scoped>\n",
       "    .dataframe tbody tr th:only-of-type {\n",
       "        vertical-align: middle;\n",
       "    }\n",
       "\n",
       "    .dataframe tbody tr th {\n",
       "        vertical-align: top;\n",
       "    }\n",
       "\n",
       "    .dataframe thead th {\n",
       "        text-align: right;\n",
       "    }\n",
       "</style>\n",
       "<table border=\"1\" class=\"dataframe\">\n",
       "  <thead>\n",
       "    <tr style=\"text-align: right;\">\n",
       "      <th></th>\n",
       "      <th>Дата</th>\n",
       "      <th>ТВ-шоу</th>\n",
       "      <th>Эпизод</th>\n",
       "      <th>устройство</th>\n",
       "      <th>views</th>\n",
       "    </tr>\n",
       "  </thead>\n",
       "  <tbody>\n",
       "    <tr>\n",
       "      <th>0</th>\n",
       "      <td>2021-04-03</td>\n",
       "      <td>Тайтл 2</td>\n",
       "      <td>4</td>\n",
       "      <td>Mobile Application</td>\n",
       "      <td>0</td>\n",
       "    </tr>\n",
       "    <tr>\n",
       "      <th>1542</th>\n",
       "      <td>2021-05-03</td>\n",
       "      <td>Тайтл 2</td>\n",
       "      <td>4</td>\n",
       "      <td>Desktop</td>\n",
       "      <td>0</td>\n",
       "    </tr>\n",
       "    <tr>\n",
       "      <th>1543</th>\n",
       "      <td>2021-05-03</td>\n",
       "      <td>Тайтл 2</td>\n",
       "      <td>4</td>\n",
       "      <td>Mobile</td>\n",
       "      <td>0</td>\n",
       "    </tr>\n",
       "    <tr>\n",
       "      <th>1544</th>\n",
       "      <td>2021-05-03</td>\n",
       "      <td>Тайтл 2</td>\n",
       "      <td>4</td>\n",
       "      <td>Mobile Application</td>\n",
       "      <td>0</td>\n",
       "    </tr>\n",
       "    <tr>\n",
       "      <th>1590</th>\n",
       "      <td>2021-05-04</td>\n",
       "      <td>Тайтл 2</td>\n",
       "      <td>4</td>\n",
       "      <td>Mobile Application</td>\n",
       "      <td>0</td>\n",
       "    </tr>\n",
       "    <tr>\n",
       "      <th>1591</th>\n",
       "      <td>2021-05-04</td>\n",
       "      <td>Тайтл 2</td>\n",
       "      <td>4</td>\n",
       "      <td>Desktop</td>\n",
       "      <td>0</td>\n",
       "    </tr>\n",
       "    <tr>\n",
       "      <th>1592</th>\n",
       "      <td>2021-05-04</td>\n",
       "      <td>Тайтл 2</td>\n",
       "      <td>4</td>\n",
       "      <td>Mobile</td>\n",
       "      <td>0</td>\n",
       "    </tr>\n",
       "    <tr>\n",
       "      <th>1638</th>\n",
       "      <td>2021-05-05</td>\n",
       "      <td>Тайтл 2</td>\n",
       "      <td>4</td>\n",
       "      <td>Desktop</td>\n",
       "      <td>0</td>\n",
       "    </tr>\n",
       "    <tr>\n",
       "      <th>1684</th>\n",
       "      <td>2021-05-06</td>\n",
       "      <td>Тайтл 2</td>\n",
       "      <td>4</td>\n",
       "      <td>Desktop</td>\n",
       "      <td>0</td>\n",
       "    </tr>\n",
       "    <tr>\n",
       "      <th>1775</th>\n",
       "      <td>2021-05-08</td>\n",
       "      <td>Тайтл 2</td>\n",
       "      <td>4</td>\n",
       "      <td>Mobile</td>\n",
       "      <td>0</td>\n",
       "    </tr>\n",
       "    <tr>\n",
       "      <th>1821</th>\n",
       "      <td>2021-05-09</td>\n",
       "      <td>Тайтл 2</td>\n",
       "      <td>4</td>\n",
       "      <td>Desktop</td>\n",
       "      <td>0</td>\n",
       "    </tr>\n",
       "    <tr>\n",
       "      <th>1863</th>\n",
       "      <td>2021-05-10</td>\n",
       "      <td>Тайтл 2</td>\n",
       "      <td>5</td>\n",
       "      <td>Mobile</td>\n",
       "      <td>0</td>\n",
       "    </tr>\n",
       "    <tr>\n",
       "      <th>1945</th>\n",
       "      <td>2021-05-12</td>\n",
       "      <td>Тайтл 2</td>\n",
       "      <td>5</td>\n",
       "      <td>Desktop</td>\n",
       "      <td>0</td>\n",
       "    </tr>\n",
       "    <tr>\n",
       "      <th>1946</th>\n",
       "      <td>2021-05-12</td>\n",
       "      <td>Тайтл 2</td>\n",
       "      <td>5</td>\n",
       "      <td>Mobile</td>\n",
       "      <td>0</td>\n",
       "    </tr>\n",
       "    <tr>\n",
       "      <th>1987</th>\n",
       "      <td>2021-05-13</td>\n",
       "      <td>Тайтл 2</td>\n",
       "      <td>5</td>\n",
       "      <td>Desktop</td>\n",
       "      <td>0</td>\n",
       "    </tr>\n",
       "    <tr>\n",
       "      <th>2068</th>\n",
       "      <td>2021-05-15</td>\n",
       "      <td>Тайтл 2</td>\n",
       "      <td>5</td>\n",
       "      <td>Desktop</td>\n",
       "      <td>0</td>\n",
       "    </tr>\n",
       "    <tr>\n",
       "      <th>2120</th>\n",
       "      <td>2021-05-17</td>\n",
       "      <td>Тайтл 2</td>\n",
       "      <td>6</td>\n",
       "      <td>SmartTV</td>\n",
       "      <td>0</td>\n",
       "    </tr>\n",
       "    <tr>\n",
       "      <th>2121</th>\n",
       "      <td>2021-05-17</td>\n",
       "      <td>Тайтл 2</td>\n",
       "      <td>6</td>\n",
       "      <td>Mobile</td>\n",
       "      <td>0</td>\n",
       "    </tr>\n",
       "    <tr>\n",
       "      <th>2122</th>\n",
       "      <td>2021-05-17</td>\n",
       "      <td>Тайтл 2</td>\n",
       "      <td>5</td>\n",
       "      <td>Desktop</td>\n",
       "      <td>0</td>\n",
       "    </tr>\n",
       "    <tr>\n",
       "      <th>2133</th>\n",
       "      <td>2021-05-18</td>\n",
       "      <td>Тайтл 2</td>\n",
       "      <td>6</td>\n",
       "      <td>Desktop</td>\n",
       "      <td>0</td>\n",
       "    </tr>\n",
       "    <tr>\n",
       "      <th>2144</th>\n",
       "      <td>2021-05-19</td>\n",
       "      <td>Тайтл 2</td>\n",
       "      <td>6</td>\n",
       "      <td>Desktop</td>\n",
       "      <td>0</td>\n",
       "    </tr>\n",
       "    <tr>\n",
       "      <th>2175</th>\n",
       "      <td>2021-05-22</td>\n",
       "      <td>Тайтл 2</td>\n",
       "      <td>6</td>\n",
       "      <td>Desktop</td>\n",
       "      <td>0</td>\n",
       "    </tr>\n",
       "  </tbody>\n",
       "</table>\n",
       "</div>"
      ],
      "text/plain": [
       "            Дата   ТВ-шоу  Эпизод          устройство  views\n",
       "0     2021-04-03  Тайтл 2       4  Mobile Application      0\n",
       "1542  2021-05-03  Тайтл 2       4             Desktop      0\n",
       "1543  2021-05-03  Тайтл 2       4              Mobile      0\n",
       "1544  2021-05-03  Тайтл 2       4  Mobile Application      0\n",
       "1590  2021-05-04  Тайтл 2       4  Mobile Application      0\n",
       "1591  2021-05-04  Тайтл 2       4             Desktop      0\n",
       "1592  2021-05-04  Тайтл 2       4              Mobile      0\n",
       "1638  2021-05-05  Тайтл 2       4             Desktop      0\n",
       "1684  2021-05-06  Тайтл 2       4             Desktop      0\n",
       "1775  2021-05-08  Тайтл 2       4              Mobile      0\n",
       "1821  2021-05-09  Тайтл 2       4             Desktop      0\n",
       "1863  2021-05-10  Тайтл 2       5              Mobile      0\n",
       "1945  2021-05-12  Тайтл 2       5             Desktop      0\n",
       "1946  2021-05-12  Тайтл 2       5              Mobile      0\n",
       "1987  2021-05-13  Тайтл 2       5             Desktop      0\n",
       "2068  2021-05-15  Тайтл 2       5             Desktop      0\n",
       "2120  2021-05-17  Тайтл 2       6             SmartTV      0\n",
       "2121  2021-05-17  Тайтл 2       6              Mobile      0\n",
       "2122  2021-05-17  Тайтл 2       5             Desktop      0\n",
       "2133  2021-05-18  Тайтл 2       6             Desktop      0\n",
       "2144  2021-05-19  Тайтл 2       6             Desktop      0\n",
       "2175  2021-05-22  Тайтл 2       6             Desktop      0"
      ]
     },
     "execution_count": 6,
     "metadata": {},
     "output_type": "execute_result"
    }
   ],
   "source": [
    "#Просмотров нет именно у второго тайтла.\n",
    "data[data['views'] == 0]"
   ]
  },
  {
   "cell_type": "code",
   "execution_count": 7,
   "metadata": {},
   "outputs": [
    {
     "data": {
      "text/plain": [
       "726"
      ]
     },
     "execution_count": 7,
     "metadata": {},
     "output_type": "execute_result"
    }
   ],
   "source": [
    "len(data[data['ТВ-шоу'] == 'Тайтл 2'])"
   ]
  },
  {
   "cell_type": "code",
   "execution_count": 8,
   "metadata": {},
   "outputs": [],
   "source": [
    "#Непонятно по каким причинам не отображается кол-во просмотров, но я думаю, что лучше избавиться от этих данных.\n",
    "data = data[data['views'] > 0]"
   ]
  },
  {
   "cell_type": "code",
   "execution_count": 9,
   "metadata": {},
   "outputs": [
    {
     "name": "stdout",
     "output_type": "stream",
     "text": [
      "<class 'pandas.core.frame.DataFrame'>\n",
      "Int64Index: 2154 entries, 1 to 2174\n",
      "Data columns (total 5 columns):\n",
      " #   Column      Non-Null Count  Dtype \n",
      "---  ------      --------------  ----- \n",
      " 0   Дата        2154 non-null   object\n",
      " 1   ТВ-шоу      2154 non-null   object\n",
      " 2   Эпизод      2154 non-null   int64 \n",
      " 3   устройство  2154 non-null   object\n",
      " 4   views       2154 non-null   int64 \n",
      "dtypes: int64(2), object(3)\n",
      "memory usage: 101.0+ KB\n"
     ]
    }
   ],
   "source": [
    "data.info()"
   ]
  },
  {
   "cell_type": "code",
   "execution_count": 10,
   "metadata": {},
   "outputs": [
    {
     "data": {
      "text/plain": [
       "Дата          0\n",
       "ТВ-шоу        0\n",
       "Эпизод        0\n",
       "устройство    0\n",
       "views         0\n",
       "dtype: int64"
      ]
     },
     "execution_count": 10,
     "metadata": {},
     "output_type": "execute_result"
    }
   ],
   "source": [
    "#Пропущенных значений нет\n",
    "data.isnull().sum()"
   ]
  },
  {
   "cell_type": "code",
   "execution_count": 11,
   "metadata": {},
   "outputs": [
    {
     "data": {
      "text/plain": [
       "array(['Mobile Application', 'SmartTV', 'Desktop', 'Mobile',\n",
       "       'ТВ-приставки'], dtype=object)"
      ]
     },
     "execution_count": 11,
     "metadata": {},
     "output_type": "execute_result"
    }
   ],
   "source": [
    "#Есть небольлшые ошибки. Тут 2 мобильные версии и смарт тв \n",
    "data.устройство.unique()"
   ]
  },
  {
   "cell_type": "code",
   "execution_count": 12,
   "metadata": {
    "scrolled": true
   },
   "outputs": [],
   "source": [
    "#Меняю\n",
    "data.loc[data['устройство']=='Mobile Application', 'устройство'] = 'Mobile'\n",
    "data.loc[data['устройство']=='ТВ-приставки', 'устройство'] = 'SmartTV'"
   ]
  },
  {
   "cell_type": "code",
   "execution_count": 13,
   "metadata": {},
   "outputs": [
    {
     "data": {
      "text/plain": [
       "array(['Тайтл 2', 'Тайтл 1', 'Тайтл 3'], dtype=object)"
      ]
     },
     "execution_count": 13,
     "metadata": {},
     "output_type": "execute_result"
    }
   ],
   "source": [
    "# Здесь ошибок нет\n",
    "data['ТВ-шоу'].unique()"
   ]
  },
  {
   "cell_type": "code",
   "execution_count": 14,
   "metadata": {},
   "outputs": [],
   "source": [
    "# Преобразую дату из строки в нужный формат\n",
    "data['Дата_новая'] = pd.to_datetime(data['Дата'], format=\"%m/%d/%y\", infer_datetime_format=True)"
   ]
  },
  {
   "cell_type": "code",
   "execution_count": 15,
   "metadata": {},
   "outputs": [
    {
     "name": "stdout",
     "output_type": "stream",
     "text": [
      "<class 'pandas.core.frame.DataFrame'>\n",
      "Int64Index: 2154 entries, 1 to 2174\n",
      "Data columns (total 6 columns):\n",
      " #   Column      Non-Null Count  Dtype         \n",
      "---  ------      --------------  -----         \n",
      " 0   Дата        2154 non-null   object        \n",
      " 1   ТВ-шоу      2154 non-null   object        \n",
      " 2   Эпизод      2154 non-null   int64         \n",
      " 3   устройство  2154 non-null   object        \n",
      " 4   views       2154 non-null   int64         \n",
      " 5   Дата_новая  2154 non-null   datetime64[ns]\n",
      "dtypes: datetime64[ns](1), int64(2), object(3)\n",
      "memory usage: 117.8+ KB\n"
     ]
    }
   ],
   "source": [
    "#Все получилось\n",
    "data.info()"
   ]
  },
  {
   "cell_type": "code",
   "execution_count": 16,
   "metadata": {},
   "outputs": [],
   "source": [
    "#Самые популярные шоу по кол-ву просмотров\n",
    "popular_shows = data.groupby(['ТВ-шоу'],as_index = False).views.sum()\n",
    "popular_shows = popular_shows.rename(columns = {'views':'Просмотры'})\n",
    "\n",
    "#Количество эпизодов у каждого шоу\n",
    "count_shows = data.groupby(['ТВ-шоу'],as_index = False).Дата.count()\n",
    "count_shows = count_shows.rename(columns = {'Дата':'Количество'})"
   ]
  },
  {
   "cell_type": "code",
   "execution_count": 17,
   "metadata": {},
   "outputs": [
    {
     "data": {
      "text/html": [
       "<div>\n",
       "<style scoped>\n",
       "    .dataframe tbody tr th:only-of-type {\n",
       "        vertical-align: middle;\n",
       "    }\n",
       "\n",
       "    .dataframe tbody tr th {\n",
       "        vertical-align: top;\n",
       "    }\n",
       "\n",
       "    .dataframe thead th {\n",
       "        text-align: right;\n",
       "    }\n",
       "</style>\n",
       "<table border=\"1\" class=\"dataframe\">\n",
       "  <thead>\n",
       "    <tr style=\"text-align: right;\">\n",
       "      <th></th>\n",
       "      <th>ТВ-шоу</th>\n",
       "      <th>Количество</th>\n",
       "    </tr>\n",
       "  </thead>\n",
       "  <tbody>\n",
       "    <tr>\n",
       "      <th>0</th>\n",
       "      <td>Тайтл 1</td>\n",
       "      <td>620</td>\n",
       "    </tr>\n",
       "    <tr>\n",
       "      <th>1</th>\n",
       "      <td>Тайтл 2</td>\n",
       "      <td>704</td>\n",
       "    </tr>\n",
       "    <tr>\n",
       "      <th>2</th>\n",
       "      <td>Тайтл 3</td>\n",
       "      <td>830</td>\n",
       "    </tr>\n",
       "  </tbody>\n",
       "</table>\n",
       "</div>"
      ],
      "text/plain": [
       "    ТВ-шоу  Количество\n",
       "0  Тайтл 1         620\n",
       "1  Тайтл 2         704\n",
       "2  Тайтл 3         830"
      ]
     },
     "execution_count": 17,
     "metadata": {},
     "output_type": "execute_result"
    }
   ],
   "source": [
    "count_shows.head()"
   ]
  },
  {
   "cell_type": "code",
   "execution_count": 18,
   "metadata": {
    "scrolled": true
   },
   "outputs": [
    {
     "data": {
      "image/png": "[encoded data removed]",
      "text/plain": [
       "<Figure size 864x360 with 2 Axes>"
      ]
     },
     "metadata": {
      "needs_background": "light"
     },
     "output_type": "display_data"
    }
   ],
   "source": [
    "fig = plt.figure()\n",
    "\n",
    "fig.set_figheight(5)\n",
    "fig.set_figwidth(12)\n",
    "\n",
    "ax1 = plt.subplot(1, 2, 1)\n",
    "plt.bar(popular_shows['ТВ-шоу'], popular_shows['Просмотры'], color = 'lightsalmon')\n",
    "plt.xticks(rotation=45)\n",
    "plt.title(r'Самые популярные шоу по кол-ву просмотров')\n",
    "plt.xlabel('Тайтл')\n",
    "plt.ylabel('Просмотры')\n",
    "\n",
    "\n",
    "ax2 = plt.subplot(1, 2, 2)\n",
    "plt.bar(count_shows['ТВ-шоу'], count_shows['Количество'], color = 'crimson')\n",
    "plt.xticks(rotation=45)\n",
    "plt.title(r'Количество эпизодов у каждого шоу')\n",
    "plt.xlabel('Тайтл')\n",
    "plt.ylabel('Кол-во эпизодов')\n",
    "\n",
    "plt.subplots_adjust(wspace=0.5)"
   ]
  },
  {
   "cell_type": "markdown",
   "metadata": {},
   "source": [
    "По этим графикам видно, что 1 тайтл является самым популярным, несмотря на то, что в нем меньше всего эпизодов."
   ]
  },
  {
   "cell_type": "code",
   "execution_count": 19,
   "metadata": {},
   "outputs": [],
   "source": [
    "# С каких устройств чаще всего просматривают ?\n",
    "devices = data.groupby(['устройство'],as_index = False).Дата.count()\n",
    "devices = devices.rename(columns = {'Дата':'Количество'})"
   ]
  },
  {
   "cell_type": "code",
   "execution_count": 20,
   "metadata": {
    "scrolled": true
   },
   "outputs": [
    {
     "data": {
      "image/png": "[encoded data removed]",
      "text/plain": [
       "<Figure size 360x360 with 1 Axes>"
      ]
     },
     "metadata": {
      "needs_background": "light"
     },
     "output_type": "display_data"
    }
   ],
   "source": [
    "#Визуализация исользщуемых девайсов\n",
    "fig = plt.figure()\n",
    "\n",
    "fig.set_figheight(5)\n",
    "fig.set_figwidth(5)\n",
    "\n",
    "ax = plt.subplot(1, 1, 1)\n",
    "plt.bar(devices['устройство'], devices['Количество'], color = 'lightsalmon')\n",
    "plt.xticks(rotation=45)\n",
    "plt.title(r'С каких устройств чаще всего просматривают ?')\n",
    "plt.xlabel('Устройство')\n",
    "plt.ylabel('Количество просмотров')\n",
    "def autolabel(rects, labels=None, height_factor=1.01):\n",
    "    for i, rect in enumerate(rects):\n",
    "        height = rect.get_height()\n",
    "        if labels is not None:\n",
    "            try:\n",
    "                label = labels[i]\n",
    "            except (TypeError, KeyError):\n",
    "                label = ' '\n",
    "        else:\n",
    "            label = '%d' % int(height)\n",
    "        ax.text(rect.get_x() + rect.get_width()/2., height_factor*height,\n",
    "                '{}'.format(label),\n",
    "                ha='center', va='bottom')\n",
    "autolabel(ax.patches, height_factor=0.85)\n"
   ]
  },
  {
   "cell_type": "markdown",
   "metadata": {},
   "source": [
    "За первенство борются телевизоры и мобильные устройства. В этой борьбе с отрывом в 1 устройство победил смарт тв. Десктопной версии же пользователи отдают гораздо меньшее предпочтение"
   ]
  },
  {
   "cell_type": "code",
   "execution_count": 21,
   "metadata": {},
   "outputs": [],
   "source": [
    "#Датафрейм с 5 самыми популярными эпизодами\n",
    "popular_episodes = data.groupby(['ТВ-шоу', 'Эпизод'],as_index = False).views.sum().sort_values(by = 'views', ascending = False).head(5)\n",
    "popular_episodes = popular_episodes.rename(columns = {'views':'Просмотры'})"
   ]
  },
  {
   "cell_type": "code",
   "execution_count": 22,
   "metadata": {},
   "outputs": [
    {
     "data": {
      "text/html": [
       "<div>\n",
       "<style scoped>\n",
       "    .dataframe tbody tr th:only-of-type {\n",
       "        vertical-align: middle;\n",
       "    }\n",
       "\n",
       "    .dataframe tbody tr th {\n",
       "        vertical-align: top;\n",
       "    }\n",
       "\n",
       "    .dataframe thead th {\n",
       "        text-align: right;\n",
       "    }\n",
       "</style>\n",
       "<table border=\"1\" class=\"dataframe\">\n",
       "  <thead>\n",
       "    <tr style=\"text-align: right;\">\n",
       "      <th></th>\n",
       "      <th>ТВ-шоу</th>\n",
       "      <th>Эпизод</th>\n",
       "      <th>Просмотры</th>\n",
       "    </tr>\n",
       "  </thead>\n",
       "  <tbody>\n",
       "    <tr>\n",
       "      <th>0</th>\n",
       "      <td>Тайтл 1</td>\n",
       "      <td>1</td>\n",
       "      <td>89099</td>\n",
       "    </tr>\n",
       "    <tr>\n",
       "      <th>10</th>\n",
       "      <td>Тайтл 3</td>\n",
       "      <td>1</td>\n",
       "      <td>82101</td>\n",
       "    </tr>\n",
       "    <tr>\n",
       "      <th>1</th>\n",
       "      <td>Тайтл 1</td>\n",
       "      <td>2</td>\n",
       "      <td>76337</td>\n",
       "    </tr>\n",
       "    <tr>\n",
       "      <th>3</th>\n",
       "      <td>Тайтл 1</td>\n",
       "      <td>4</td>\n",
       "      <td>73135</td>\n",
       "    </tr>\n",
       "    <tr>\n",
       "      <th>4</th>\n",
       "      <td>Тайтл 1</td>\n",
       "      <td>5</td>\n",
       "      <td>68483</td>\n",
       "    </tr>\n",
       "  </tbody>\n",
       "</table>\n",
       "</div>"
      ],
      "text/plain": [
       "     ТВ-шоу  Эпизод  Просмотры\n",
       "0   Тайтл 1       1      89099\n",
       "10  Тайтл 3       1      82101\n",
       "1   Тайтл 1       2      76337\n",
       "3   Тайтл 1       4      73135\n",
       "4   Тайтл 1       5      68483"
      ]
     },
     "execution_count": 22,
     "metadata": {},
     "output_type": "execute_result"
    }
   ],
   "source": [
    "popular_episodes.head()"
   ]
  },
  {
   "cell_type": "code",
   "execution_count": 23,
   "metadata": {},
   "outputs": [],
   "source": [
    "#Объединяю 2 колонки в одну\n",
    "popular_episodes['Эпизод_']=popular_episodes['ТВ-шоу'] + ', ' + popular_episodes['Эпизод'].astype('str') + ' ' +  'эпизод'"
   ]
  },
  {
   "cell_type": "code",
   "execution_count": 24,
   "metadata": {},
   "outputs": [
    {
     "data": {
      "text/html": [
       "<div>\n",
       "<style scoped>\n",
       "    .dataframe tbody tr th:only-of-type {\n",
       "        vertical-align: middle;\n",
       "    }\n",
       "\n",
       "    .dataframe tbody tr th {\n",
       "        vertical-align: top;\n",
       "    }\n",
       "\n",
       "    .dataframe thead th {\n",
       "        text-align: right;\n",
       "    }\n",
       "</style>\n",
       "<table border=\"1\" class=\"dataframe\">\n",
       "  <thead>\n",
       "    <tr style=\"text-align: right;\">\n",
       "      <th></th>\n",
       "      <th>Просмотры</th>\n",
       "      <th>Эпизод</th>\n",
       "    </tr>\n",
       "  </thead>\n",
       "  <tbody>\n",
       "    <tr>\n",
       "      <th>0</th>\n",
       "      <td>89099</td>\n",
       "      <td>Тайтл 1, 1 эпизод</td>\n",
       "    </tr>\n",
       "    <tr>\n",
       "      <th>10</th>\n",
       "      <td>82101</td>\n",
       "      <td>Тайтл 3, 1 эпизод</td>\n",
       "    </tr>\n",
       "    <tr>\n",
       "      <th>1</th>\n",
       "      <td>76337</td>\n",
       "      <td>Тайтл 1, 2 эпизод</td>\n",
       "    </tr>\n",
       "    <tr>\n",
       "      <th>3</th>\n",
       "      <td>73135</td>\n",
       "      <td>Тайтл 1, 4 эпизод</td>\n",
       "    </tr>\n",
       "    <tr>\n",
       "      <th>4</th>\n",
       "      <td>68483</td>\n",
       "      <td>Тайтл 1, 5 эпизод</td>\n",
       "    </tr>\n",
       "  </tbody>\n",
       "</table>\n",
       "</div>"
      ],
      "text/plain": [
       "    Просмотры             Эпизод\n",
       "0       89099  Тайтл 1, 1 эпизод\n",
       "10      82101  Тайтл 3, 1 эпизод\n",
       "1       76337  Тайтл 1, 2 эпизод\n",
       "3       73135  Тайтл 1, 4 эпизод\n",
       "4       68483  Тайтл 1, 5 эпизод"
      ]
     },
     "execution_count": 24,
     "metadata": {},
     "output_type": "execute_result"
    }
   ],
   "source": [
    "#Удаляю старые колонки для переименования новой. Можно и без этого, конечно\n",
    "del popular_episodes['ТВ-шоу']\n",
    "del popular_episodes['Эпизод']\n",
    "popular_episodes = popular_episodes.rename(columns = {'Эпизод_' : 'Эпизод'})\n",
    "popular_episodes.head()"
   ]
  },
  {
   "cell_type": "code",
   "execution_count": 25,
   "metadata": {},
   "outputs": [
    {
     "data": {
      "text/html": [
       "<div>\n",
       "<style scoped>\n",
       "    .dataframe tbody tr th:only-of-type {\n",
       "        vertical-align: middle;\n",
       "    }\n",
       "\n",
       "    .dataframe tbody tr th {\n",
       "        vertical-align: top;\n",
       "    }\n",
       "\n",
       "    .dataframe thead th {\n",
       "        text-align: right;\n",
       "    }\n",
       "</style>\n",
       "<table border=\"1\" class=\"dataframe\">\n",
       "  <thead>\n",
       "    <tr style=\"text-align: right;\">\n",
       "      <th></th>\n",
       "      <th>Просмотры</th>\n",
       "      <th>Эпизод</th>\n",
       "    </tr>\n",
       "  </thead>\n",
       "  <tbody>\n",
       "    <tr>\n",
       "      <th>0</th>\n",
       "      <td>89099</td>\n",
       "      <td>Тайтл 1, 1 эпизод</td>\n",
       "    </tr>\n",
       "    <tr>\n",
       "      <th>10</th>\n",
       "      <td>82101</td>\n",
       "      <td>Тайтл 3, 1 эпизод</td>\n",
       "    </tr>\n",
       "    <tr>\n",
       "      <th>1</th>\n",
       "      <td>76337</td>\n",
       "      <td>Тайтл 1, 2 эпизод</td>\n",
       "    </tr>\n",
       "    <tr>\n",
       "      <th>3</th>\n",
       "      <td>73135</td>\n",
       "      <td>Тайтл 1, 4 эпизод</td>\n",
       "    </tr>\n",
       "    <tr>\n",
       "      <th>4</th>\n",
       "      <td>68483</td>\n",
       "      <td>Тайтл 1, 5 эпизод</td>\n",
       "    </tr>\n",
       "  </tbody>\n",
       "</table>\n",
       "</div>"
      ],
      "text/plain": [
       "    Просмотры             Эпизод\n",
       "0       89099  Тайтл 1, 1 эпизод\n",
       "10      82101  Тайтл 3, 1 эпизод\n",
       "1       76337  Тайтл 1, 2 эпизод\n",
       "3       73135  Тайтл 1, 4 эпизод\n",
       "4       68483  Тайтл 1, 5 эпизод"
      ]
     },
     "execution_count": 25,
     "metadata": {},
     "output_type": "execute_result"
    }
   ],
   "source": [
    "popular_episodes.head()"
   ]
  },
  {
   "cell_type": "code",
   "execution_count": 26,
   "metadata": {},
   "outputs": [
    {
     "data": {
      "text/plain": [
       "Text(0, 0.5, 'Количество просмотров')"
      ]
     },
     "execution_count": 26,
     "metadata": {},
     "output_type": "execute_result"
    },
    {
     "data": {
      "image/png": "[encoded data removed]",
      "text/plain": [
       "<Figure size 432x288 with 1 Axes>"
      ]
     },
     "metadata": {
      "needs_background": "light"
     },
     "output_type": "display_data"
    }
   ],
   "source": [
    "#Визуализация самых просматриваемых эпизодов\n",
    "\n",
    "\n",
    "ax1 = plt.subplot(1, 1, 1)\n",
    "plt.bar(popular_episodes['Эпизод'], popular_episodes['Просмотры'], color = 'rosybrown')\n",
    "plt.xticks(rotation=45)\n",
    "plt.title(r'5 самых просматриваемых эпизодов')\n",
    "plt.xlabel('Эпизод')\n",
    "plt.ylabel('Количество просмотров')\n"
   ]
  },
  {
   "cell_type": "markdown",
   "metadata": {},
   "source": [
    " Из этого графика можно сделать вывод, что самый просматриваемый эпизод - 1 из 1 тайтла. Также можно заметить, что 4 эпизода из 5 относятся к 1 тайтлу. "
   ]
  },
  {
   "cell_type": "code",
   "execution_count": 32,
   "metadata": {},
   "outputs": [],
   "source": [
    "#Теперь хочу посмотреть на какой месяц в году приходится больше всего просмтров \n",
    "data['День'] = data['Дата_новая'].dt.day\n",
    "data['Месяц'] = data['Дата_новая'].dt.month\n"
   ]
  },
  {
   "cell_type": "code",
   "execution_count": 33,
   "metadata": {
    "scrolled": false
   },
   "outputs": [],
   "source": [
    "#Визуализаця просмтров по дням\n",
    "def day_views(month1, df1,title1, month2, df2, title2):   \n",
    "    data_df1 = data[data['Месяц'] == month1].copy()\n",
    "    data_df2 = data[data['Месяц'] == month2].copy()\n",
    "    df1= data_df1.groupby(['День'],as_index = False).views.sum().sort_values(by = 'День', ascending = True)\n",
    "    df1 = df1.rename(columns = {'views' : 'Просмотры'})\n",
    "    df2 = data_df2.groupby(['День'],as_index = False).views.sum().sort_values(by = 'День', ascending = True)\n",
    "    df2 = df2.rename(columns = {'views' : 'Просмотры'})\n",
    "    \n",
    "    fig = plt.figure()\n",
    "\n",
    "    fig.set_figheight(5)\n",
    "    fig.set_figwidth(12)\n",
    "\n",
    "    ax1 = plt.subplot(1, 2, 1)\n",
    "    plt.plot(df1['День'], df1['Просмотры'], color = 'darkorange')\n",
    "    plt.xticks(rotation=45)\n",
    "    plt.title(f'Количество просмотров по дням в {title1}')\n",
    "    plt.xlabel('День')\n",
    "    plt.ylabel('Просмотры')\n",
    "\n",
    "\n",
    "    ax2 = plt.subplot(1, 2, 2)\n",
    "    plt.plot(df2['День'], df2['Просмотры'], color = 'forestgreen')\n",
    "    plt.xticks(rotation=45)\n",
    "    plt.title(f'Количество просмотров по дням в {title2}')\n",
    "    plt.xlabel('День')\n",
    "    plt.ylabel('Просмотры')\n",
    "\n",
    "    plt.subplots_adjust(wspace=0.5)"
   ]
  },
  {
   "cell_type": "code",
   "execution_count": 34,
   "metadata": {},
   "outputs": [
    {
     "data": {
      "image/png": "[encoded data removed]",
      "text/plain": [
       "<Figure size 864x360 with 2 Axes>"
      ]
     },
     "metadata": {
      "needs_background": "light"
     },
     "output_type": "display_data"
    }
   ],
   "source": [
    "day_views(4, 'April', 'Апреле', 5, 'May', 'Мае')"
   ]
  },
  {
   "cell_type": "markdown",
   "metadata": {},
   "source": [
    "Непонятная динамика просмотров. Интересно, что пики не приходятся на выходные. Я думаю, что больше всего просмотров в день выхода эпизода популярного тайтла."
   ]
  },
  {
   "cell_type": "code",
   "execution_count": null,
   "metadata": {},
   "outputs": [],
   "source": []
  },
  {
   "cell_type": "code",
   "execution_count": null,
   "metadata": {},
   "outputs": [],
   "source": []
  },
  {
   "cell_type": "code",
   "execution_count": null,
   "metadata": {},
   "outputs": [],
   "source": []
  },
  {
   "cell_type": "code",
   "execution_count": null,
   "metadata": {},
   "outputs": [],
   "source": []
  },
  {
   "cell_type": "code",
   "execution_count": null,
   "metadata": {},
   "outputs": [],
   "source": []
  },
  {
   "cell_type": "code",
   "execution_count": null,
   "metadata": {},
   "outputs": [],
   "source": []
  },
  {
   "cell_type": "code",
   "execution_count": null,
   "metadata": {},
   "outputs": [],
   "source": []
  },
  {
   "cell_type": "code",
   "execution_count": null,
   "metadata": {},
   "outputs": [],
   "source": []
  },
  {
   "cell_type": "code",
   "execution_count": null,
   "metadata": {},
   "outputs": [],
   "source": []
  },
  {
   "cell_type": "code",
   "execution_count": null,
   "metadata": {},
   "outputs": [],
   "source": []
  },
  {
   "cell_type": "code",
   "execution_count": null,
   "metadata": {},
   "outputs": [],
   "source": []
  },
  {
   "cell_type": "code",
   "execution_count": null,
   "metadata": {},
   "outputs": [],
   "source": []
  },
  {
   "cell_type": "code",
   "execution_count": null,
   "metadata": {},
   "outputs": [],
   "source": []
  },
  {
   "cell_type": "code",
   "execution_count": null,
   "metadata": {},
   "outputs": [],
   "source": []
  },
  {
   "cell_type": "code",
   "execution_count": null,
   "metadata": {},
   "outputs": [],
   "source": []
  },
  {
   "cell_type": "code",
   "execution_count": null,
   "metadata": {},
   "outputs": [],
   "source": []
  },
  {
   "cell_type": "code",
   "execution_count": null,
   "metadata": {},
   "outputs": [],
   "source": []
  },
  {
   "cell_type": "code",
   "execution_count": null,
   "metadata": {},
   "outputs": [],
   "source": []
  },
  {
   "cell_type": "code",
   "execution_count": null,
   "metadata": {},
   "outputs": [],
   "source": []
  },
  {
   "cell_type": "code",
   "execution_count": null,
   "metadata": {},
   "outputs": [],
   "source": []
  },
  {
   "cell_type": "code",
   "execution_count": null,
   "metadata": {},
   "outputs": [],
   "source": []
  },
  {
   "cell_type": "code",
   "execution_count": null,
   "metadata": {},
   "outputs": [],
   "source": []
  },
  {
   "cell_type": "code",
   "execution_count": null,
   "metadata": {},
   "outputs": [],
   "source": []
  }
 ],
 "metadata": {
  "kernelspec": {
   "display_name": "Python 3",
   "language": "python",
   "name": "python3"
  },
  "language_info": {
   "codemirror_mode": {
    "name": "ipython",
    "version": 3
   },
   "file_extension": ".py",
   "mimetype": "text/x-python",
   "name": "python",
   "nbconvert_exporter": "python",
   "pygments_lexer": "ipython3",
   "version": "3.8.5"
  }
 },
 "nbformat": 4,
 "nbformat_minor": 4
}
